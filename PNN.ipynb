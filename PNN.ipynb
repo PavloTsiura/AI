{
 "cells": [
  {
   "cell_type": "code",
   "execution_count": 1,
   "metadata": {},
   "outputs": [],
   "source": [
    "import pandas as pd\n",
    "import numpy as np\n",
    "import math"
   ]
  },
  {
   "cell_type": "code",
   "execution_count": 2,
   "metadata": {},
   "outputs": [
    {
     "name": "stdout",
     "output_type": "stream",
     "text": [
      "[[  3.       0.      24.       0.       0.       8.85     1.       0.    ]\n",
      " [  3.       1.      24.       0.       0.       7.8958   1.       0.    ]\n",
      " [  3.       1.      23.5      0.       0.       7.2292   2.       0.    ]\n",
      " [  1.       0.       2.       1.       2.     151.55     1.       0.    ]\n",
      " [  1.       0.      50.       0.       1.     247.5208   2.       1.    ]\n",
      " [  3.       1.      19.       0.       0.       0.       1.       0.    ]\n",
      " [  1.       1.       0.92     1.       2.     151.55     1.       1.    ]\n",
      " [  1.       0.      17.       1.       0.     108.9      2.       1.    ]\n",
      " [  2.       1.      30.       1.       0.      24.       2.       0.    ]\n",
      " [  1.       0.      30.       0.       0.      56.9292   2.       1.    ]]\n",
      "(476, 8)\n",
      "[[ 1.      0.     38.      1.      0.     71.2833  2.      1.    ]\n",
      " [ 3.      0.     26.      0.      0.      7.925   1.      1.    ]\n",
      " [ 1.      0.     35.      1.      0.     53.1     1.      1.    ]\n",
      " [ 3.      1.     35.      0.      0.      8.05    1.      0.    ]\n",
      " [ 1.      1.     54.      0.      0.     51.8625  1.      0.    ]\n",
      " [ 3.      1.      2.      3.      1.     21.075   1.      0.    ]\n",
      " [ 3.      0.     27.      0.      2.     11.1333  1.      1.    ]\n",
      " [ 2.      0.     14.      1.      0.     30.0708  2.      1.    ]\n",
      " [ 3.      0.      4.      1.      1.     16.7     1.      1.    ]\n",
      " [ 1.      0.     58.      0.      0.     26.55    1.      1.    ]]\n",
      "(235, 8)\n"
     ]
    }
   ],
   "source": [
    "directory = 'D:\\\\.Files\\\\Fraud\\\\Titanic\\\\'\n",
    "data = pd.read_csv(directory + 'train.csv', sep = ';').dropna(axis = 0).apply(pd.to_numeric).to_numpy()\n",
    "use = data[:round(data.shape[0] * 0.33)]\n",
    "train = data[round(data.shape[0]*0.33):]\n",
    "\n",
    "\n",
    "print(train[:10])\n",
    "print(train.shape)\n",
    "print(use[:10])\n",
    "print(use.shape)"
   ]
  },
  {
   "cell_type": "code",
   "execution_count": 3,
   "metadata": {},
   "outputs": [],
   "source": [
    "def euqlideanDist(vec1, vec2):\n",
    "    return math.sqrt(sum((vec1 - vec2))**2)"
   ]
  },
  {
   "cell_type": "code",
   "execution_count": 4,
   "metadata": {},
   "outputs": [],
   "source": [
    "def pnn(train, use):\n",
    "    sigma = 3\n",
    "    denumerator = 0.0\n",
    "    # list with 0 value, which length = count of classes\n",
    "    numerator = np.array([*map(float, np.array(['0'] * len(set(train[:,1]))))])\n",
    "    \n",
    "    for tr in train: \n",
    "            E = math.exp(-1 * (euqlideanDist(use, tr[:-1])**2) / sigma**2)\n",
    "            numerator[int(tr[-1])] += E\n",
    "\n",
    "            # To exclude case of devison by 0\n",
    "            denumerator += E if E != 0 else 0.00000001\n",
    "            \n",
    "    return numerator/denumerator"
   ]
  },
  {
   "cell_type": "code",
   "execution_count": 5,
   "metadata": {},
   "outputs": [],
   "source": [
    "result = np.array([*map(lambda use: pnn(train,use), use[:,:-1])])\n"
   ]
  },
  {
   "cell_type": "code",
   "execution_count": 6,
   "metadata": {},
   "outputs": [],
   "source": [
    "res = np.array([*map(lambda x: 1 if x[1] > x[0] else 0, result)]).T"
   ]
  },
  {
   "cell_type": "code",
   "execution_count": 7,
   "metadata": {},
   "outputs": [
    {
     "data": {
      "text/plain": [
       "0.625531914893617"
      ]
     },
     "execution_count": 7,
     "metadata": {},
     "output_type": "execute_result"
    }
   ],
   "source": [
    "sum([1 if rs == us else 0 for rs, us in zip(res, use[:,-1])]) / res.shape[0]"
   ]
  },
  {
   "cell_type": "code",
   "execution_count": 8,
   "metadata": {},
   "outputs": [],
   "source": [
    "res_tst = pd.DataFrame(np.vstack((res, use[:, -1])).T)"
   ]
  },
  {
   "cell_type": "code",
   "execution_count": 9,
   "metadata": {},
   "outputs": [],
   "source": [
    "def visualise(df):\n",
    "    FF = sum(df.iloc[:, 1][df.iloc[:, 0] == 1]) / df.shape[0] * 100\n",
    "    NN = 100 - sum(df.iloc[:, 1][df.iloc[:, 0] == 0]) / df.shape[0] * 100\n",
    "    FN = 100 - sum(df.iloc[:, 1][df.iloc[:, 0] == 1]) / df.shape[0] * 100\n",
    "    NF = sum(df.iloc[:, 1][df.iloc[:, 0] == 0]) / df.shape[0] * 100\n",
    "\n",
    "    res =  pd.DataFrame([ [NN, NF],\n",
    "                         [FN, FF]  ])\n",
    "    #print(res)\n",
    "    return res"
   ]
  },
  {
   "cell_type": "code",
   "execution_count": 10,
   "metadata": {},
   "outputs": [
    {
     "data": {
      "text/html": [
       "<div>\n",
       "<style scoped>\n",
       "    .dataframe tbody tr th:only-of-type {\n",
       "        vertical-align: middle;\n",
       "    }\n",
       "\n",
       "    .dataframe tbody tr th {\n",
       "        vertical-align: top;\n",
       "    }\n",
       "\n",
       "    .dataframe thead th {\n",
       "        text-align: right;\n",
       "    }\n",
       "</style>\n",
       "<table border=\"1\" class=\"dataframe\">\n",
       "  <thead>\n",
       "    <tr style=\"text-align: right;\">\n",
       "      <th></th>\n",
       "      <th>0</th>\n",
       "      <th>1</th>\n",
       "    </tr>\n",
       "  </thead>\n",
       "  <tbody>\n",
       "    <tr>\n",
       "      <th>0</th>\n",
       "      <td>73.617021</td>\n",
       "      <td>26.382979</td>\n",
       "    </tr>\n",
       "    <tr>\n",
       "      <th>1</th>\n",
       "      <td>89.787234</td>\n",
       "      <td>10.212766</td>\n",
       "    </tr>\n",
       "  </tbody>\n",
       "</table>\n",
       "</div>"
      ],
      "text/plain": [
       "           0          1\n",
       "0  73.617021  26.382979\n",
       "1  89.787234  10.212766"
      ]
     },
     "execution_count": 10,
     "metadata": {},
     "output_type": "execute_result"
    }
   ],
   "source": [
    "visualise(res_tst)"
   ]
  },
  {
   "cell_type": "code",
   "execution_count": null,
   "metadata": {},
   "outputs": [],
   "source": []
  }
 ],
 "metadata": {
  "kernelspec": {
   "display_name": "Python 3",
   "language": "python",
   "name": "python3"
  },
  "language_info": {
   "codemirror_mode": {
    "name": "ipython",
    "version": 3
   },
   "file_extension": ".py",
   "mimetype": "text/x-python",
   "name": "python",
   "nbconvert_exporter": "python",
   "pygments_lexer": "ipython3",
   "version": "3.8.2"
  }
 },
 "nbformat": 4,
 "nbformat_minor": 4
}
